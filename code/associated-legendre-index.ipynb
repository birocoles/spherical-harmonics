{
 "cells": [
  {
   "cell_type": "markdown",
   "metadata": {},
   "source": [
    "# Illustrate the relations between the indices of the computed scaled $P_{lm}$ "
   ]
  },
  {
   "cell_type": "code",
   "execution_count": 1,
   "metadata": {},
   "outputs": [],
   "source": [
    "import numpy as np\n",
    "import matplotlib.pyplot as plt"
   ]
  },
  {
   "cell_type": "code",
   "execution_count": 2,
   "metadata": {},
   "outputs": [],
   "source": [
    "index = lambda l, m: l*(l+1)//2 + m"
   ]
  },
  {
   "cell_type": "markdown",
   "metadata": {},
   "source": [
    "### Create indices up to a given $l_{max}$"
   ]
  },
  {
   "cell_type": "code",
   "execution_count": 3,
   "metadata": {},
   "outputs": [],
   "source": [
    "# maximum degree\n",
    "lmax = 6"
   ]
  },
  {
   "cell_type": "code",
   "execution_count": 4,
   "metadata": {},
   "outputs": [],
   "source": [
    "Plm_matrix = np.zeros((lmax+1,lmax+1))"
   ]
  },
  {
   "cell_type": "code",
   "execution_count": 5,
   "metadata": {},
   "outputs": [],
   "source": [
    "for l in range(lmax+1):\n",
    "    for m in range(l+1):\n",
    "        Plm_matrix[l][m] = index(l, m)"
   ]
  },
  {
   "cell_type": "code",
   "execution_count": 6,
   "metadata": {},
   "outputs": [],
   "source": [
    "Plm_vector = np.zeros(index(lmax, lmax) + 1)"
   ]
  },
  {
   "cell_type": "code",
   "execution_count": 7,
   "metadata": {},
   "outputs": [],
   "source": [
    "for l in range(lmax+1):\n",
    "    for m in range(l+1):\n",
    "        Plm_vector[index(l, m)] = index(l, m)"
   ]
  },
  {
   "cell_type": "code",
   "execution_count": 8,
   "metadata": {},
   "outputs": [
    {
     "name": "stdout",
     "output_type": "stream",
     "text": [
      "[[ 0.  0.  0.  0.  0.  0.  0.]\n",
      " [ 1.  2.  0.  0.  0.  0.  0.]\n",
      " [ 3.  4.  5.  0.  0.  0.  0.]\n",
      " [ 6.  7.  8.  9.  0.  0.  0.]\n",
      " [10. 11. 12. 13. 14.  0.  0.]\n",
      " [15. 16. 17. 18. 19. 20.  0.]\n",
      " [21. 22. 23. 24. 25. 26. 27.]]\n"
     ]
    }
   ],
   "source": [
    "print(Plm_matrix)"
   ]
  },
  {
   "cell_type": "code",
   "execution_count": 9,
   "metadata": {},
   "outputs": [
    {
     "name": "stdout",
     "output_type": "stream",
     "text": [
      "[ 0.  1.  2.  3.  4.  5.  6.  7.  8.  9. 10. 11. 12. 13. 14. 15. 16. 17.\n",
      " 18. 19. 20. 21. 22. 23. 24. 25. 26. 27.]\n"
     ]
    }
   ],
   "source": [
    "print(Plm_vector)"
   ]
  },
  {
   "cell_type": "markdown",
   "metadata": {},
   "source": [
    "### Relations between sectoral terms $l = m$"
   ]
  },
  {
   "cell_type": "code",
   "execution_count": 10,
   "metadata": {},
   "outputs": [
    {
     "name": "stdout",
     "output_type": "stream",
     "text": [
      "5\n",
      "9\n",
      "14\n",
      "20\n",
      "27\n"
     ]
    }
   ],
   "source": [
    "for l in range(2, lmax+1):\n",
    "    print(index(l, l))"
   ]
  },
  {
   "cell_type": "code",
   "execution_count": 11,
   "metadata": {},
   "outputs": [
    {
     "name": "stdout",
     "output_type": "stream",
     "text": [
      "2 5\n",
      "5 9\n",
      "9 14\n",
      "14 20\n",
      "20 27\n"
     ]
    }
   ],
   "source": [
    "# index of the term defined by P11\n",
    "index_l_1_l_1 = 2\n",
    "\n",
    "# index of the term defined by P22\n",
    "index_ll = 5\n",
    "    \n",
    "for l in range(2, lmax+1):\n",
    "    \n",
    "    print(index_l_1_l_1, index_ll)\n",
    "\n",
    "    # update index_l_1_l_1\n",
    "    index_l_1_l_1 += l + 1\n",
    "    \n",
    "    # update index_ll\n",
    "    index_ll += l + 2"
   ]
  },
  {
   "cell_type": "markdown",
   "metadata": {},
   "source": [
    "### Relations between terms with contant order $m$ and increasing degree $l$"
   ]
  },
  {
   "cell_type": "code",
   "execution_count": 24,
   "metadata": {},
   "outputs": [
    {
     "name": "stdout",
     "output_type": "stream",
     "text": [
      "0 1\n",
      "0 1 3\n",
      "1 3 6\n",
      "3 6 10\n",
      "6 10 15\n",
      "10 15 21\n",
      "\n",
      "\n",
      "2 4\n",
      "2 4 7\n",
      "4 7 11\n",
      "7 11 16\n",
      "11 16 22\n",
      "\n",
      "\n",
      "5 8\n",
      "5 8 12\n",
      "8 12 17\n",
      "12 17 23\n",
      "\n",
      "\n",
      "9 13\n",
      "9 13 18\n",
      "13 18 24\n",
      "\n",
      "\n",
      "14 19\n",
      "14 19 25\n",
      "\n",
      "\n",
      "20 26\n",
      "\n",
      "\n"
     ]
    }
   ],
   "source": [
    "seed_l_1_m = 0\n",
    "seed_lm = 1\n",
    "for m in range(lmax):\n",
    "    index_l_1_m = seed_l_1_m\n",
    "    index_lm = seed_lm\n",
    "    print(index_l_1_m, index_lm)\n",
    "    index_l_2_m = index_l_1_m\n",
    "    index_l_1_m = index_lm\n",
    "    index_lm += m + 2\n",
    "    for l in range(m+2, lmax+1):\n",
    "        print(index_l_2_m, index_l_1_m, index_lm)\n",
    "        index_l_2_m = index_l_1_m\n",
    "        index_l_1_m = index_lm\n",
    "        index_lm += l + 1\n",
    "    seed_l_1_m += m + 2\n",
    "    seed_lm += m + 3\n",
    "    print('\\n')"
   ]
  },
  {
   "cell_type": "code",
   "execution_count": 27,
   "metadata": {},
   "outputs": [
    {
     "name": "stdout",
     "output_type": "stream",
     "text": [
      "2\n",
      "4\n",
      "7\n",
      "11\n",
      "16\n",
      "22\n",
      "\n",
      "\n",
      "5\n",
      "8\n",
      "12\n",
      "17\n",
      "23\n",
      "\n",
      "\n",
      "9\n",
      "13\n",
      "18\n",
      "24\n",
      "\n",
      "\n",
      "14\n",
      "19\n",
      "25\n",
      "\n",
      "\n",
      "20\n",
      "26\n",
      "\n",
      "\n",
      "27\n",
      "\n",
      "\n"
     ]
    }
   ],
   "source": [
    "seed_ll = 2\n",
    "for m in range(1, lmax+1):\n",
    "    index = seed_ll\n",
    "    print(index)\n",
    "    index += m + 1\n",
    "    for l in range(m+1, lmax+1):\n",
    "        print(index)\n",
    "        index += l + 1\n",
    "    seed_ll += m + 2\n",
    "    print('\\n')"
   ]
  },
  {
   "cell_type": "code",
   "execution_count": null,
   "metadata": {},
   "outputs": [],
   "source": []
  }
 ],
 "metadata": {
  "kernelspec": {
   "display_name": "Python 3",
   "language": "python",
   "name": "python3"
  },
  "language_info": {
   "codemirror_mode": {
    "name": "ipython",
    "version": 3
   },
   "file_extension": ".py",
   "mimetype": "text/x-python",
   "name": "python",
   "nbconvert_exporter": "python",
   "pygments_lexer": "ipython3",
   "version": "3.7.4"
  }
 },
 "nbformat": 4,
 "nbformat_minor": 4
}
